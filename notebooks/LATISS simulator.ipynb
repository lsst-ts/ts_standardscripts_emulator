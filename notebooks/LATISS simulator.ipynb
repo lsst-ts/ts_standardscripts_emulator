{
 "cells": [
  {
   "cell_type": "markdown",
   "metadata": {},
   "source": [
    "Illustrate some of the supported LATISS/ATTCS emulation"
   ]
  },
  {
   "cell_type": "code",
   "execution_count": null,
   "metadata": {},
   "outputs": [],
   "source": [
    "import asyncio\n",
    "\n",
    "from lsst.ts.standardscripts.auxtel.attcs import ATTCS\n",
    "from lsst.ts.standardscripts.auxtel.latiss import LATISS"
   ]
  },
  {
   "cell_type": "code",
   "execution_count": null,
   "metadata": {},
   "outputs": [],
   "source": [
    "attcs = ATTCS(time_per_second=0.0)\n",
    "latiss = LATISS(attcs.domain) "
   ]
  },
  {
   "cell_type": "markdown",
   "metadata": {},
   "source": [
    "### Supported ATTCS commands"
   ]
  },
  {
   "cell_type": "code",
   "execution_count": null,
   "metadata": {},
   "outputs": [],
   "source": [
    "await attcs.atptg.cmd_pointNewFile.start()\n",
    "await attcs.atptg.cmd_pointAddData.start()"
   ]
  },
  {
   "cell_type": "code",
   "execution_count": null,
   "metadata": {},
   "outputs": [],
   "source": [
    "await attcs.slew_object(name=\"HD 146233\", pa_ang=0, slew_timeout=240)"
   ]
  },
  {
   "cell_type": "markdown",
   "metadata": {},
   "source": [
    "#### Pointing model"
   ]
  },
  {
   "cell_type": "code",
   "execution_count": null,
   "metadata": {},
   "outputs": [],
   "source": [
    "await attcs.atptg.cmd_pointNewFile.start()\n",
    "await attcs.atptg.cmd_pointAddData.start()"
   ]
  },
  {
   "cell_type": "markdown",
   "metadata": {},
   "source": [
    "#### Focus"
   ]
  },
  {
   "cell_type": "code",
   "execution_count": null,
   "metadata": {},
   "outputs": [],
   "source": [
    "attcs.athexapod.evt_positionUpdate.flush()\n",
    "await attcs.ataos.cmd_applyFocusOffset.set_start(offset=0.1)\n",
    "await attcs.athexapod.evt_positionUpdate.next(flush=False, timeout=attcs.long_timeout);"
   ]
  },
  {
   "cell_type": "markdown",
   "metadata": {},
   "source": [
    "#### Offsets"
   ]
  },
  {
   "cell_type": "code",
   "execution_count": null,
   "metadata": {},
   "outputs": [],
   "source": [
    "offset = await attcs.offset_xy(1, 2)\n",
    "print(offset)"
   ]
  },
  {
   "cell_type": "code",
   "execution_count": null,
   "metadata": {},
   "outputs": [],
   "source": [
    "offset = await attcs.offset_xy(1, 2)\n",
    "print(offset)\n",
    "offset = await attcs.offset_xy(1, 2, True)\n",
    "print(offset)\n",
    "offset = await attcs.offset_xy(1, 2, True)\n",
    "print(offset)\n",
    "offset = await attcs.offset_xy(0, 0)\n",
    "print(offset)"
   ]
  },
  {
   "cell_type": "markdown",
   "metadata": {},
   "source": [
    "### Supported LATISS commands"
   ]
  },
  {
   "cell_type": "code",
   "execution_count": null,
   "metadata": {},
   "outputs": [],
   "source": [
    "await latiss.setup_atspec(\"ronchi90lpmm\", \"empty_1\")\n",
    "\n",
    "latiss.domain.time_per_second = 0.1\n",
    "await latiss.take_object(2, n=2)"
   ]
  },
  {
   "cell_type": "code",
   "execution_count": null,
   "metadata": {},
   "outputs": [],
   "source": [
    "latiss.atcamera.seqNum"
   ]
  },
  {
   "cell_type": "code",
   "execution_count": null,
   "metadata": {},
   "outputs": [],
   "source": [
    "vals = await asyncio.gather(\n",
    "    latiss.atspectrograph.evt_reportedFilterPosition.aget(),\n",
    "    latiss.atspectrograph.evt_reportedDisperserPosition.aget(),\n",
    ")\n",
    "[_.name for _ in vals]"
   ]
  }
 ],
 "metadata": {
  "kernelspec": {
   "display_name": "rhl",
   "language": "python",
   "name": "rhl"
  },
  "language_info": {
   "codemirror_mode": {
    "name": "ipython",
    "version": 3
   },
   "file_extension": ".py",
   "mimetype": "text/x-python",
   "name": "python",
   "nbconvert_exporter": "python",
   "pygments_lexer": "ipython3",
   "version": "3.7.1"
  }
 },
 "nbformat": 4,
 "nbformat_minor": 2
}
